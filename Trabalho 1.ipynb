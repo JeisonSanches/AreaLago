{
 "cells": [
  {
   "cell_type": "markdown",
   "metadata": {},
   "source": [
    "# Aluno: Jeison Sanches\n",
    "<u>**Trabalho Computacional 1**</u>"
   ]
  },
  {
   "cell_type": "markdown",
   "metadata": {},
   "source": [
    "## Exercício 1"
   ]
  },
  {
   "cell_type": "code",
   "execution_count": null,
   "metadata": {},
   "outputs": [],
   "source": []
  },
  {
   "cell_type": "code",
   "execution_count": 1,
   "metadata": {},
   "outputs": [],
   "source": [
    "f<-function(x){(x*tan(x))-1.28}"
   ]
  },
  {
   "cell_type": "code",
   "execution_count": 2,
   "metadata": {},
   "outputs": [
    {
     "data": {
      "image/png": "[encoded data removed]",
      "text/plain": [
       "Plot with title \"Exercício 1\""
      ]
     },
     "metadata": {},
     "output_type": "display_data"
    }
   ],
   "source": [
    "curve(f,0,1,col=\"red\",main=\"Exercício 1\")"
   ]
  },
  {
   "cell_type": "code",
   "execution_count": 3,
   "metadata": {},
   "outputs": [],
   "source": [
    "bisec<-function(f,a,b,e)\n",
    "{\n",
    "    k=0\n",
    "    while(b-a>e)\n",
    "    {\n",
    "        k=k+1\n",
    "        x=(a+b)/2\n",
    "    \n",
    "        if(f(a)*f(x)<0)\n",
    "        {\n",
    "            a=a\n",
    "            b=x\n",
    "        }\n",
    "    \n",
    "        if(f(x)*f(b)<0)\n",
    "        {\n",
    "            a=x\n",
    "            b=b\n",
    "        }\n",
    "    \n",
    "        if(f(x)==0)\n",
    "        {\n",
    "            return(list(raiz=(a+b)/2,iterações=k))\n",
    "        }\n",
    "    }\n",
    "    return(list(aproximação=(a+b)/2,iterações=k))\n",
    "}"
   ]
  },
  {
   "cell_type": "code",
   "execution_count": 4,
   "metadata": {},
   "outputs": [
    {
     "data": {
      "text/html": [
       "<dl>\n",
       "\t<dt>$aproximação</dt>\n",
       "\t\t<dd>0.938256103545427</dd>\n",
       "\t<dt>$iterações</dt>\n",
       "\t\t<dd>27</dd>\n",
       "</dl>\n"
      ],
      "text/latex": [
       "\\begin{description}\n",
       "\\item[\\$aproximação] 0.938256103545427\n",
       "\\item[\\$iterações] 27\n",
       "\\end{description}\n"
      ],
      "text/markdown": [
       "$aproximação\n",
       ":   0.938256103545427\n",
       "$iterações\n",
       ":   27\n",
       "\n",
       "\n"
      ],
      "text/plain": [
       "$aproximação\n",
       "[1] 0.9382561\n",
       "\n",
       "$iterações\n",
       "[1] 27\n"
      ]
     },
     "metadata": {},
     "output_type": "display_data"
    }
   ],
   "source": [
    "bisec(f,0,1,0.00000001)"
   ]
  },
  {
   "cell_type": "markdown",
   "metadata": {},
   "source": [
    "## Exercício 2"
   ]
  },
  {
   "cell_type": "code",
   "execution_count": 5,
   "metadata": {},
   "outputs": [],
   "source": [
    "f<-function(x){(x^3)+(2*x^2)+(2*2*x)+(0.4)}"
   ]
  },
  {
   "cell_type": "code",
   "execution_count": 6,
   "metadata": {},
   "outputs": [],
   "source": [
    "g<-function(x){(x^3)+(2*x^2)}"
   ]
  },
  {
   "cell_type": "code",
   "execution_count": 7,
   "metadata": {},
   "outputs": [],
   "source": [
    "h<-function(x){(-2*2*x)-(0.4)}"
   ]
  },
  {
   "cell_type": "code",
   "execution_count": 8,
   "metadata": {},
   "outputs": [
    {
     "data": {
      "image/png": "[encoded data removed]",
      "text/plain": [
       "Plot with title \"Exercício 2\""
      ]
     },
     "metadata": {},
     "output_type": "display_data"
    }
   ],
   "source": [
    "curve(f,-1,0,col=\"red\",main=\"Exercício 2\",ylab=\"y\")\n",
    "\n",
    "abline(h=0,col=\"black\")\n",
    "\n",
    "abline(v=0,col=\"black\")\n",
    "\n",
    "curve(g,add=T,col=\"blue\")\n",
    "\n",
    "curve(h,add=T,col=\"yellow\")\n",
    "\n",
    "text(-0.75,0.1,\"f(x)\")\n",
    "\n",
    "text(-0.15,0.4,\"h(x)\")\n",
    "\n",
    "text(-0.6,0.6,\"g(x)\")"
   ]
  },
  {
   "cell_type": "code",
   "execution_count": 9,
   "metadata": {},
   "outputs": [],
   "source": [
    "posição_falsa<-function(f,a,b,e)\n",
    "{\n",
    "    k=1\n",
    "    x=(a*f(b)-b*f(a))/(f(b)-f(a))\n",
    "    \n",
    "    while (abs(f(x)) > e)\n",
    "    {\n",
    "        \n",
    "        k=k+1\n",
    "\n",
    "        if(f(a)*f(x)<0)\n",
    "        {\n",
    "            a=a\n",
    "            b=x\n",
    "            x=(a*f(b)-b*f(a))/(f(b)-f(a))\n",
    "        }\n",
    "\n",
    "        if(f(x)*f(b)<0)\n",
    "        {\n",
    "            a=x\n",
    "            b=b\n",
    "            x=(a*f(b)-b*f(a))/(f(b)-f(a))\n",
    "        }\n",
    "\n",
    "        if(f(x)==0)\n",
    "        {\n",
    "        return(list(raiz=(a*f(b)-b*f(a))/(f(b)-f(a)),iterações=k))\n",
    "        }\n",
    "        \n",
    "    }\n",
    "    \n",
    "    return(list(aproximação=x,iterações=k))\n",
    "}\n"
   ]
  },
  {
   "cell_type": "code",
   "execution_count": 10,
   "metadata": {},
   "outputs": [
    {
     "data": {
      "text/html": [
       "<dl>\n",
       "\t<dt>$aproximação</dt>\n",
       "\t\t<dd>-0.105247182260148</dd>\n",
       "\t<dt>$iterações</dt>\n",
       "\t\t<dd>5</dd>\n",
       "</dl>\n"
      ],
      "text/latex": [
       "\\begin{description}\n",
       "\\item[\\$aproximação] -0.105247182260148\n",
       "\\item[\\$iterações] 5\n",
       "\\end{description}\n"
      ],
      "text/markdown": [
       "$aproximação\n",
       ":   -0.105247182260148\n",
       "$iterações\n",
       ":   5\n",
       "\n",
       "\n"
      ],
      "text/plain": [
       "$aproximação\n",
       "[1] -0.1052472\n",
       "\n",
       "$iterações\n",
       "[1] 5\n"
      ]
     },
     "metadata": {},
     "output_type": "display_data"
    }
   ],
   "source": [
    "posição_falsa(f,-1,0,0.000001)"
   ]
  },
  {
   "cell_type": "markdown",
   "metadata": {},
   "source": [
    "## Exercício 3"
   ]
  },
  {
   "cell_type": "code",
   "execution_count": 11,
   "metadata": {},
   "outputs": [],
   "source": [
    "f<-function(x){(x^3)+(x)+1}"
   ]
  },
  {
   "cell_type": "code",
   "execution_count": 12,
   "metadata": {},
   "outputs": [
    {
     "data": {
      "image/png": "[encoded data removed]",
      "text/plain": [
       "Plot with title \"Exercício 3\""
      ]
     },
     "metadata": {},
     "output_type": "display_data"
    }
   ],
   "source": [
    "curve(f,-1,0,col=\"red\",main=\"Exercício 3\",ylab=\"y\")\n",
    "abline(h=0)"
   ]
  },
  {
   "cell_type": "code",
   "execution_count": 13,
   "metadata": {},
   "outputs": [],
   "source": [
    "gfun<-function(x){(-x^3)-1}"
   ]
  },
  {
   "cell_type": "code",
   "execution_count": 14,
   "metadata": {},
   "outputs": [],
   "source": [
    "fixedpoint <- function(fun, x0, tol=0.000001, niter=500)\n",
    "{\n",
    "    xold <- x0\n",
    "    xnew <- fun(xold)\n",
    "    for (i in 1:niter)\n",
    "    {\n",
    "        xold <- xnew\n",
    "        xnew <- fun(xold)\n",
    "        \n",
    "        if ( abs((xnew-xold)) < tol)\n",
    "        {\n",
    "            return(xnew)\n",
    "        }\n",
    "\n",
    "    }\n",
    "    stop(\"excedeu o número permitido de iterações\")\n",
    "}"
   ]
  },
  {
   "cell_type": "markdown",
   "metadata": {},
   "source": [
    "Para x0 = -0.8:"
   ]
  },
  {
   "cell_type": "code",
   "execution_count": 15,
   "metadata": {},
   "outputs": [
    {
     "ename": "ERROR",
     "evalue": "Error in fixedpoint(gfun, -0.7): excedeu o número permitido de iterações\n",
     "output_type": "error",
     "traceback": [
      "Error in fixedpoint(gfun, -0.7): excedeu o número permitido de iterações\nTraceback:\n",
      "1. fixedpoint(gfun, -0.7)",
      "2. stop(\"excedeu o número permitido de iterações\")   # at line 16 of file <text>"
     ]
    }
   ],
   "source": [
    "fixedpoint(gfun,-0.7)"
   ]
  },
  {
   "cell_type": "markdown",
   "metadata": {},
   "source": [
    "## Exercício 4"
   ]
  },
  {
   "cell_type": "code",
   "execution_count": 16,
   "metadata": {},
   "outputs": [
    {
     "name": "stderr",
     "output_type": "stream",
     "text": [
      "Loading required package: Deriv\n"
     ]
    }
   ],
   "source": [
    "require(Deriv)"
   ]
  },
  {
   "cell_type": "code",
   "execution_count": 17,
   "metadata": {},
   "outputs": [],
   "source": [
    "f<-function(x){(exp(1)^(-0.005*x))*cos(sqrt(200-0.01*x^2)*0.05)-0.01}"
   ]
  },
  {
   "cell_type": "code",
   "execution_count": 18,
   "metadata": {},
   "outputs": [
    {
     "data": {
      "image/png": "[encoded data removed]",
      "text/plain": [
       "plot without title"
      ]
     },
     "metadata": {},
     "output_type": "display_data"
    }
   ],
   "source": [
    "curve(f,0.5,1)\n",
    "\n",
    "abline(h=0)"
   ]
  },
  {
   "cell_type": "code",
   "execution_count": 19,
   "metadata": {},
   "outputs": [],
   "source": [
    "newton_raphson<-function(f,x,e){\n",
    "f_linha<-Deriv(f)\n",
    "k=0\n",
    "while (abs(f(x)) > e){\n",
    "k=k+1\n",
    "x<-x-(f(x)/(f_linha(x)))\n",
    "}\n",
    "return(list(aproximação=x,iterações=k))\n",
    "}"
   ]
  },
  {
   "cell_type": "code",
   "execution_count": 20,
   "metadata": {},
   "outputs": [
    {
     "name": "stderr",
     "output_type": "stream",
     "text": [
      "Warning message in sqrt(200 - 0.01 * x^2):\n",
      "\"NaNs produzidos\""
     ]
    },
    {
     "ename": "ERROR",
     "evalue": "Error in while (abs(f(x)) > e) {: valor ausente onde TRUE/FALSE necessário\n",
     "output_type": "error",
     "traceback": [
      "Error in while (abs(f(x)) > e) {: valor ausente onde TRUE/FALSE necessário\nTraceback:\n",
      "1. newton_raphson(f, 250, 1e-06)"
     ]
    }
   ],
   "source": [
    "newton_raphson(f,250,0.000001)"
   ]
  },
  {
   "cell_type": "markdown",
   "metadata": {},
   "source": [
    "## Exercício 5"
   ]
  },
  {
   "cell_type": "code",
   "execution_count": 21,
   "metadata": {},
   "outputs": [],
   "source": [
    "f<-function(x){2*sqrt(((1-x^2)^2)+4*((0.1221)^2))-1}"
   ]
  },
  {
   "cell_type": "code",
   "execution_count": 22,
   "metadata": {},
   "outputs": [
    {
     "data": {
      "image/png": "[encoded data removed]",
      "text/plain": [
       "plot without title"
      ]
     },
     "metadata": {},
     "output_type": "display_data"
    }
   ],
   "source": [
    "curve(f,0.5,1)\n",
    "abline(h=0)"
   ]
  },
  {
   "cell_type": "code",
   "execution_count": 23,
   "metadata": {},
   "outputs": [],
   "source": [
    "secante<-function(f,a,b,e)\n",
    "{\n",
    "    k=0\n",
    "    \n",
    "    while (abs(b-a) > e)\n",
    "    {\n",
    "        k=k+1\n",
    "        x<-(a*f(b)-b*f(a))/(f(b)-f(a))\n",
    "        a=b\n",
    "        b=x\n",
    "    }\n",
    "    \n",
    "    return(list(aproximação=x,iterações=k))\n",
    "}\n"
   ]
  },
  {
   "cell_type": "code",
   "execution_count": 24,
   "metadata": {},
   "outputs": [
    {
     "data": {
      "text/html": [
       "<dl>\n",
       "\t<dt>$aproximação</dt>\n",
       "\t\t<dd>0.750792957005553</dd>\n",
       "\t<dt>$iterações</dt>\n",
       "\t\t<dd>3</dd>\n",
       "</dl>\n"
      ],
      "text/latex": [
       "\\begin{description}\n",
       "\\item[\\$aproximação] 0.750792957005553\n",
       "\\item[\\$iterações] 3\n",
       "\\end{description}\n"
      ],
      "text/markdown": [
       "$aproximação\n",
       ":   0.750792957005553\n",
       "$iterações\n",
       ":   3\n",
       "\n",
       "\n"
      ],
      "text/plain": [
       "$aproximação\n",
       "[1] 0.750793\n",
       "\n",
       "$iterações\n",
       "[1] 3\n"
      ]
     },
     "metadata": {},
     "output_type": "display_data"
    }
   ],
   "source": [
    "secante(f,0.7,0.75,0.000006)"
   ]
  }
 ],
 "metadata": {
  "kernelspec": {
   "display_name": "R",
   "language": "R",
   "name": "ir"
  },
  "language_info": {
   "codemirror_mode": "r",
   "file_extension": ".r",
   "mimetype": "text/x-r-source",
   "name": "R",
   "pygments_lexer": "r",
   "version": "3.6.1"
  }
 },
 "nbformat": 4,
 "nbformat_minor": 2
}
